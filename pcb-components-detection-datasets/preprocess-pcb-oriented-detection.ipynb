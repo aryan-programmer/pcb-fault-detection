{
 "cells": [
  {
   "cell_type": "markdown",
   "id": "13ea4b9b",
   "metadata": {},
   "source": [
    "# Preprocessing for pcb-oriented-detection\n",
    "\n",
    "From: https://www.kaggle.com/datasets/yuyi1005/pcb-oriented-detection\n",
    "\n",
    "Contains oriented bounding boxes, so we need to convert them to regular bounding boxes.\n",
    "\n",
    "The file performs the following pre-processing steps:\n",
    " - Finds the tightest regular bounding boxes that fit the oriented bounding boxes and saves this.\n",
    " - The images are (also) dark here, and so we perform some basic color correction, by clipping the values in all the color channels to be less than it's 97.5 percentile."
   ]
  },
  {
   "cell_type": "code",
   "execution_count": 1,
   "id": "f1d36924",
   "metadata": {},
   "outputs": [],
   "source": [
    "import numpy as np\n",
    "import pandas as pd\n",
    "\n",
    "from pathlib import Path\n",
    "import xml.etree.ElementTree as ET\n",
    "from shutil import copyfile\n",
    "import os\n",
    "import os.path as path\n",
    "import shutil\n",
    "import pathlib\n",
    "from pathlib import Path\n",
    "from tqdm.std import tqdm\n",
    "import random\n",
    "import json\n",
    "import random\n",
    "import glob\n",
    "import cv2\n",
    "import regex as re\n",
    "import matplotlib.pyplot as plt\n",
    "from matplotlib.patches import Rectangle\n",
    "from matplotlib.axes import Axes\n",
    "import seaborn as sns\n",
    "from PIL import Image, ImageFont, ImageDraw, ImageEnhance\n",
    "import enum\n",
    "from enum import Enum, auto\n",
    "from matplotlib.offsetbox import AnnotationBbox, AuxTransformBox\n",
    "\n",
    "import sys\n",
    "\n",
    "sys.path.insert(0, \"..\")\n",
    "from yolo_visualize import (\n",
    "    sample_yolo_dataset,\n",
    "    get_class_colors,\n",
    "    show_image_with_bounding_box,\n",
    "    label_str_to_num,\n",
    ")"
   ]
  },
  {
   "cell_type": "code",
   "execution_count": 2,
   "id": "39ea4bc6",
   "metadata": {},
   "outputs": [],
   "source": [
    "CLASSES = (\n",
    "    \"C\",\n",
    "    \"J\",\n",
    "    \"RS\",\n",
    "    \"CE\",\n",
    "    \"IC-SOT23\",\n",
    "    \"IC-SOP\",\n",
    "    \"IC-TO252\",\n",
    "    \"IC-SOT223\",\n",
    "    \"D\",\n",
    "    \"JW\",\n",
    "    \"X\",\n",
    "    \"R\",\n",
    "    \"IC-BGA\",\n",
    "    \"IC-QFN\",\n",
    "    \"SW\",\n",
    "    \"SW-S\",\n",
    "    \"IC-SOT235\",\n",
    "    \"IC-SOT89\",\n",
    "    \"IC-QFP\",\n",
    "    \"IC-SOT234\",\n",
    "    \"LED\",\n",
    "    \"IC-SON\",\n",
    "    \"CA\",\n",
    "    \"LR\",\n",
    "    \"IC-SOT236\",\n",
    "    \"JN-FFC\",\n",
    "    \"RN-N\",\n",
    "    \"JN-XHH\",\n",
    "    \"CN\",\n",
    "    \"RN\",\n",
    "    \"JN-DF\",\n",
    "    \"JN-DM\",\n",
    "    \"JN-XHV\",\n",
    "    \"IC\",\n",
    "    \"P\",\n",
    "    \"DC\",\n",
    "    \"LA\",\n",
    "    \"LB\",\n",
    "    \"X-HC49\",\n",
    "    \"JN\",\n",
    "    \"F\",\n",
    ")\n",
    "\n",
    "CLASS_NAME_TO_INT = {v: i for i, v in enumerate(CLASSES)}"
   ]
  },
  {
   "cell_type": "code",
   "execution_count": 3,
   "id": "72be002d",
   "metadata": {},
   "outputs": [
    {
     "data": {
      "text/plain": [
       "{'C': 0,\n",
       " 'J': 1,\n",
       " 'RS': 2,\n",
       " 'CE': 3,\n",
       " 'IC-SOT23': 4,\n",
       " 'IC-SOP': 5,\n",
       " 'IC-TO252': 6,\n",
       " 'IC-SOT223': 7,\n",
       " 'D': 8,\n",
       " 'JW': 9,\n",
       " 'X': 10,\n",
       " 'R': 11,\n",
       " 'IC-BGA': 12,\n",
       " 'IC-QFN': 13,\n",
       " 'SW': 14,\n",
       " 'SW-S': 15,\n",
       " 'IC-SOT235': 16,\n",
       " 'IC-SOT89': 17,\n",
       " 'IC-QFP': 18,\n",
       " 'IC-SOT234': 19,\n",
       " 'LED': 20,\n",
       " 'IC-SON': 21,\n",
       " 'CA': 22,\n",
       " 'LR': 23,\n",
       " 'IC-SOT236': 24,\n",
       " 'JN-FFC': 25,\n",
       " 'RN-N': 26,\n",
       " 'JN-XHH': 27,\n",
       " 'CN': 28,\n",
       " 'RN': 29,\n",
       " 'JN-DF': 30,\n",
       " 'JN-DM': 31,\n",
       " 'JN-XHV': 32,\n",
       " 'IC': 33,\n",
       " 'P': 34,\n",
       " 'DC': 35,\n",
       " 'LA': 36,\n",
       " 'LB': 37,\n",
       " 'X-HC49': 38,\n",
       " 'JN': 39,\n",
       " 'F': 40}"
      ]
     },
     "execution_count": 3,
     "metadata": {},
     "output_type": "execute_result"
    }
   ],
   "source": [
    "CLASS_NAME_TO_INT"
   ]
  },
  {
   "cell_type": "code",
   "execution_count": 4,
   "id": "2b979508",
   "metadata": {},
   "outputs": [],
   "source": [
    "LOAD_DATA_DIR = Path(\"./pcb-oriented-detection/\")\n",
    "SAVE_DATA_DIR = Path(\"./pcb-un-oriented-detection/\")"
   ]
  },
  {
   "cell_type": "code",
   "execution_count": 5,
   "id": "9a1a835c",
   "metadata": {},
   "outputs": [],
   "source": [
    "def sane_mkdir(v):\n",
    "    Path(v).mkdir(parents=True, exist_ok=True)"
   ]
  },
  {
   "cell_type": "code",
   "execution_count": 6,
   "id": "5b813c09",
   "metadata": {},
   "outputs": [],
   "source": [
    "# Temporary label storage location\n",
    "sane_mkdir(LOAD_DATA_DIR / \"labels\")\n",
    "sane_mkdir(LOAD_DATA_DIR / \"images\")"
   ]
  },
  {
   "cell_type": "code",
   "execution_count": 7,
   "id": "04abb7f2",
   "metadata": {},
   "outputs": [],
   "source": [
    "# clear_old_data = True\n",
    "clear_old_data = False\n",
    "if clear_old_data and path.exists(SAVE_DATA_DIR):\n",
    "    shutil.rmtree(SAVE_DATA_DIR)\n",
    "sane_mkdir(SAVE_DATA_DIR)"
   ]
  },
  {
   "cell_type": "code",
   "execution_count": 8,
   "id": "c5fad480",
   "metadata": {},
   "outputs": [],
   "source": [
    "DATASET_GROUPS = [\"train\", \"test\", \"valid\"]\n",
    "for g in DATASET_GROUPS:\n",
    "    sane_mkdir(SAVE_DATA_DIR / g)\n",
    "    sane_mkdir(SAVE_DATA_DIR / g / \"images\")\n",
    "    sane_mkdir(SAVE_DATA_DIR / g / \"labels\")"
   ]
  },
  {
   "cell_type": "code",
   "execution_count": 9,
   "id": "484e83b0",
   "metadata": {},
   "outputs": [],
   "source": [
    "# Define metadata for dataset\n",
    "with open(SAVE_DATA_DIR / \"data.yaml\", \"w\") as f:\n",
    "    f.write(\n",
    "        f\"\"\"train: ../train/images\n",
    "val: ../valid/images\n",
    "test: ../test/images\n",
    "\n",
    "nc: {len(CLASSES)}\n",
    "names: [{\",\".join(f\"'{s}'\" for s in CLASSES)}]\n",
    "\"\"\"\n",
    "    )"
   ]
  },
  {
   "cell_type": "code",
   "execution_count": 11,
   "id": "0e1ac6c9",
   "metadata": {},
   "outputs": [
    {
     "name": "stdout",
     "output_type": "stream",
     "text": [
      "train\n"
     ]
    },
    {
     "name": "stderr",
     "output_type": "stream",
     "text": [
      "100%|██████████| 133/133 [01:25<00:00,  1.55it/s]\n"
     ]
    },
    {
     "name": "stdout",
     "output_type": "stream",
     "text": [
      "test\n"
     ]
    },
    {
     "name": "stderr",
     "output_type": "stream",
     "text": [
      "100%|██████████| 28/28 [00:18<00:00,  1.55it/s]\n"
     ]
    },
    {
     "name": "stdout",
     "output_type": "stream",
     "text": [
      "valid\n"
     ]
    },
    {
     "name": "stderr",
     "output_type": "stream",
     "text": [
      "100%|██████████| 29/29 [00:17<00:00,  1.64it/s]\n"
     ]
    }
   ],
   "source": [
    "images_files = list(os.listdir(LOAD_DATA_DIR / \"images_old\"))\n",
    "rng = random.Random(x=42)\n",
    "rng.shuffle(images_files)\n",
    "train_end_idx = int(len(images_files) * 0.7)\n",
    "test_end_idx = int(len(images_files) * (0.7 + 0.15))\n",
    "train_files = images_files[0:train_end_idx]\n",
    "test_files = images_files[train_end_idx:test_end_idx]\n",
    "val_files = images_files[test_end_idx:]\n",
    "vs = [train_files, test_files, val_files]\n",
    "\n",
    "\n",
    "\n",
    "for g_id, group in enumerate(DATASET_GROUPS):\n",
    "    print(group)\n",
    "    for image_file_rel in tqdm(vs[g_id]):\n",
    "        image_file = LOAD_DATA_DIR / \"images_old\" / image_file_rel\n",
    "        text_file = (LOAD_DATA_DIR / \"annfiles\" / image_file_rel).with_suffix(\".txt\")\n",
    "        img = cv2.imread(image_file)\n",
    "\n",
    "        annotations = []\n",
    "\n",
    "        with open(text_file, \"r\") as f:\n",
    "            contents = f.read()\n",
    "            annotations.extend(line.split() for line in contents.splitlines())\n",
    "\n",
    "\n",
    "        h, w, _ = img.shape\n",
    "\n",
    "        percentile_value = 97.5\n",
    "        whitebalanced = (\n",
    "\n",
    "            (img * 1.0 / np.percentile(img, percentile_value, axis=(0, 1))).clip(0, 1)\n",
    "\n",
    "            * 255\n",
    "\n",
    "        ).astype(np.uint8)\n",
    "\n",
    "        j = Image.fromarray(whitebalanced)\n",
    "\n",
    "        j.save(SAVE_DATA_DIR / group / \"images\" / image_file_rel)\n",
    "\n",
    "\n",
    "        with open(SAVE_DATA_DIR / group / \"labels\" / text_file.name, \"w\") as f:\n",
    "            for annotation in annotations:\n",
    "                class_id = CLASS_NAME_TO_INT[annotation[-2]]\n",
    "                coordinates = [float(i) for i in annotation[:-2]]\n",
    "                coordsX = coordinates[\n",
    "                    ::2\n",
    "                ]  # get every other element starting from the first (x coordinates)\n",
    "                coordsY = coordinates[\n",
    "                    1::2\n",
    "                ]  # get every other element starting from the second (y coordinates)\n",
    "\n",
    "                minX = min(coordsX)\n",
    "                maxX = max(coordsX)\n",
    "                minY = min(coordsY)\n",
    "                maxY = max(coordsY)\n",
    "\n",
    "\n",
    "                centerX = ((maxX + minX) / 2) * (1 / w)\n",
    "                centerY = ((maxY + minY) / 2) * (1 / h)\n",
    "\n",
    "\n",
    "                boundingWidth = (maxX - minX) * (1 / w)\n",
    "                boundingHeight = (maxY - minY) * (1 / h)\n",
    "\n",
    "\n",
    "                f.write(\n",
    "                    f\"{class_id} {centerX} {centerY} {boundingWidth} {boundingHeight}\\n\"\n",
    "                )"
   ]
  },
  {
   "cell_type": "code",
   "execution_count": null,
   "id": "f8fdbfbe",
   "metadata": {},
   "outputs": [],
   "source": []
  }
 ],
 "metadata": {
  "kernelspec": {
   "display_name": "base",
   "language": "python",
   "name": "python3"
  },
  "language_info": {
   "codemirror_mode": {
    "name": "ipython",
    "version": 3
   },
   "file_extension": ".py",
   "mimetype": "text/x-python",
   "name": "python",
   "nbconvert_exporter": "python",
   "pygments_lexer": "ipython3",
   "version": "3.12.4"
  }
 },
 "nbformat": 4,
 "nbformat_minor": 5
}
